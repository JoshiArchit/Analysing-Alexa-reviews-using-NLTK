{
 "cells": [
  {
   "metadata": {},
   "cell_type": "markdown",
   "source": [
    "<h1> This project discusses beginner level text classification using a Alexa product reviews dataset off Kaggle. </h1>\n",
    "<h2> The dataset contains 3000 reviews of Alexa products. </h2>\n",
    "<p> The notebook deals with basic text classification tasks including the preprocessing of text data, vectorization of text data, and the application of machine learning algorithms to classify the reviews into positive and negative categories using Logistical Regression which is the stepping stone towards more deeper and intricate models. </p>\n",
    "<p> We will also use NLP libraries like NLTK to preprocess the text data and vectorize it. </p>"
   ],
   "id": "4ab34cf1ba9e6af0"
  },
  {
   "metadata": {},
   "cell_type": "markdown",
   "source": [
    "<h3> Step 1: Tech Stack setup and installing dependencies </h3>\n",
    "<p> The first step is to download the nltk library and install the dependencies required for the project. The nltk library is a powerful library for natural language processing and text classification tasks. A short description of the libraries is given below: </p>\n",
    "<ul>\n",
    "    <li> nltk: The Natural Language Toolkit is a powerful library for text processing and classification tasks. </li>\n",
    "        <ul>\n",
    "            <li> punkt: The punkt module is used for tokenization of text data. </li>\n",
    "            <li> stopwords: The stopwords module is used for removing stopwords from text data. </li>\n",
    "            <li> wordnet: The wordnet module is used for lemmatization of text data. </li>\n",
    "            <li> omw-1.4: The omw-1.4 module is used for wordnet synsets. </li>\n",
    "        </ul>\n",
    "    <li> numpy: The numpy library is a powerful library for numerical computing and array manipulation. </li>\n",
    "    <li> pandas: The pandas library is a powerful library for data manipulation and analysis. </li>\n",
    "    <li> scikit-learn: The scikit-learn library is a powerful library for machine learning and data analysis. </li>\n",
    "    <li> matplotlib: The matplotlib library is a powerful library for data visualization and plotting. </li>\n",
    "</ul>"
   ],
   "id": "43e594eec2772029"
  },
  {
   "metadata": {
    "ExecuteTime": {
     "end_time": "2024-07-06T15:32:05.069895Z",
     "start_time": "2024-07-06T15:32:01.136031Z"
    }
   },
   "cell_type": "code",
   "source": [
    "# install dependencies if they do not exist using the requirements.txt file and pip\n",
    "%pip install -r requirements.txt"
   ],
   "id": "9a1bcdfb72060671",
   "outputs": [
    {
     "name": "stdout",
     "output_type": "stream",
     "text": [
      "Requirement already satisfied: nltk in c:\\users\\archit\\miniforge3\\lib\\site-packages (from -r requirements.txt (line 1)) (3.8.1)\n",
      "Requirement already satisfied: pandas in c:\\users\\archit\\miniforge3\\lib\\site-packages (from -r requirements.txt (line 2)) (2.2.2)\n",
      "Requirement already satisfied: numpy in c:\\users\\archit\\miniforge3\\lib\\site-packages (from -r requirements.txt (line 3)) (1.26.4)\n",
      "Requirement already satisfied: matplotlib in c:\\users\\archit\\miniforge3\\lib\\site-packages (from -r requirements.txt (line 4)) (3.9.0)\n",
      "Requirement already satisfied: scikit-learn in c:\\users\\archit\\miniforge3\\lib\\site-packages (from -r requirements.txt (line 5)) (1.5.0)\n",
      "Requirement already satisfied: click in c:\\users\\archit\\miniforge3\\lib\\site-packages (from nltk->-r requirements.txt (line 1)) (8.1.7)\n",
      "Requirement already satisfied: joblib in c:\\users\\archit\\miniforge3\\lib\\site-packages (from nltk->-r requirements.txt (line 1)) (1.4.2)\n",
      "Requirement already satisfied: regex>=2021.8.3 in c:\\users\\archit\\miniforge3\\lib\\site-packages (from nltk->-r requirements.txt (line 1)) (2024.5.15)\n",
      "Requirement already satisfied: tqdm in c:\\users\\archit\\miniforge3\\lib\\site-packages (from nltk->-r requirements.txt (line 1)) (4.66.2)\n",
      "Requirement already satisfied: python-dateutil>=2.8.2 in c:\\users\\archit\\miniforge3\\lib\\site-packages (from pandas->-r requirements.txt (line 2)) (2.9.0.post0)\n",
      "Requirement already satisfied: pytz>=2020.1 in c:\\users\\archit\\miniforge3\\lib\\site-packages (from pandas->-r requirements.txt (line 2)) (2024.1)\n",
      "Requirement already satisfied: tzdata>=2022.7 in c:\\users\\archit\\miniforge3\\lib\\site-packages (from pandas->-r requirements.txt (line 2)) (2024.1)\n",
      "Requirement already satisfied: contourpy>=1.0.1 in c:\\users\\archit\\miniforge3\\lib\\site-packages (from matplotlib->-r requirements.txt (line 4)) (1.2.1)\n",
      "Requirement already satisfied: cycler>=0.10 in c:\\users\\archit\\miniforge3\\lib\\site-packages (from matplotlib->-r requirements.txt (line 4)) (0.12.1)\n",
      "Requirement already satisfied: fonttools>=4.22.0 in c:\\users\\archit\\miniforge3\\lib\\site-packages (from matplotlib->-r requirements.txt (line 4)) (4.53.0)\n",
      "Requirement already satisfied: kiwisolver>=1.3.1 in c:\\users\\archit\\miniforge3\\lib\\site-packages (from matplotlib->-r requirements.txt (line 4)) (1.4.5)\n",
      "Requirement already satisfied: packaging>=20.0 in c:\\users\\archit\\miniforge3\\lib\\site-packages (from matplotlib->-r requirements.txt (line 4)) (24.0)\n",
      "Requirement already satisfied: pillow>=8 in c:\\users\\archit\\miniforge3\\lib\\site-packages (from matplotlib->-r requirements.txt (line 4)) (10.3.0)\n",
      "Requirement already satisfied: pyparsing>=2.3.1 in c:\\users\\archit\\miniforge3\\lib\\site-packages (from matplotlib->-r requirements.txt (line 4)) (3.1.2)\n",
      "Requirement already satisfied: scipy>=1.6.0 in c:\\users\\archit\\miniforge3\\lib\\site-packages (from scikit-learn->-r requirements.txt (line 5)) (1.14.0)\n",
      "Requirement already satisfied: threadpoolctl>=3.1.0 in c:\\users\\archit\\miniforge3\\lib\\site-packages (from scikit-learn->-r requirements.txt (line 5)) (3.5.0)\n",
      "Requirement already satisfied: six>=1.5 in c:\\users\\archit\\miniforge3\\lib\\site-packages (from python-dateutil>=2.8.2->pandas->-r requirements.txt (line 2)) (1.16.0)\n",
      "Requirement already satisfied: colorama in c:\\users\\archit\\miniforge3\\lib\\site-packages (from click->nltk->-r requirements.txt (line 1)) (0.4.6)\n",
      "Note: you may need to restart the kernel to use updated packages.\n"
     ]
    }
   ],
   "execution_count": 1
  },
  {
   "metadata": {
    "ExecuteTime": {
     "end_time": "2024-07-06T15:32:07.811762Z",
     "start_time": "2024-07-06T15:32:05.072798Z"
    }
   },
   "cell_type": "code",
   "source": [
    "import nltk\n",
    "nltk.download('punkt')\n",
    "nltk.download('stopwords')\n",
    "nltk.download('wordnet')\n",
    "nltk.download('omw-1.4')"
   ],
   "id": "990ed698e58278a",
   "outputs": [
    {
     "name": "stderr",
     "output_type": "stream",
     "text": [
      "[nltk_data] Downloading package punkt to\n",
      "[nltk_data]     C:\\Users\\Archit\\AppData\\Roaming\\nltk_data...\n",
      "[nltk_data]   Package punkt is already up-to-date!\n",
      "[nltk_data] Downloading package stopwords to\n",
      "[nltk_data]     C:\\Users\\Archit\\AppData\\Roaming\\nltk_data...\n",
      "[nltk_data]   Package stopwords is already up-to-date!\n",
      "[nltk_data] Downloading package wordnet to\n",
      "[nltk_data]     C:\\Users\\Archit\\AppData\\Roaming\\nltk_data...\n",
      "[nltk_data]   Package wordnet is already up-to-date!\n",
      "[nltk_data] Downloading package omw-1.4 to\n",
      "[nltk_data]     C:\\Users\\Archit\\AppData\\Roaming\\nltk_data...\n",
      "[nltk_data]   Package omw-1.4 is already up-to-date!\n"
     ]
    },
    {
     "data": {
      "text/plain": [
       "True"
      ]
     },
     "execution_count": 2,
     "metadata": {},
     "output_type": "execute_result"
    }
   ],
   "execution_count": 2
  },
  {
   "metadata": {},
   "cell_type": "markdown",
   "source": [
    "<h3> Step 3: Loading the Dataset and Exploratory Analysis </h3>\n",
    "<p> The dataset can be downloaded from Kaggle, but for convinience it is also included in the repository as a tsv file.\n",
    "Link to dataset - https://www.kaggle.com/datasets/sid321axn/amazon-alexa-reviews/data</p>"
   ],
   "id": "43ba38f55a3399bc"
  },
  {
   "metadata": {},
   "cell_type": "markdown",
   "source": "The cell below will load the dataset and help us check the first few rows.",
   "id": "5ad1234d6aaf90c5"
  },
  {
   "metadata": {
    "ExecuteTime": {
     "end_time": "2024-07-06T15:32:09.157029Z",
     "start_time": "2024-07-06T15:32:09.097647Z"
    }
   },
   "cell_type": "code",
   "source": [
    "import pandas as pd\n",
    "# load the dataset as a pandas DataFrame \n",
    "reviews = pd.read_csv('amazon_alexa.tsv', delimiter='\\t')\n",
    "# display the first few rows of the dataset\n",
    "reviews.head()"
   ],
   "id": "b3a7ef0aa3022ac6",
   "outputs": [
    {
     "data": {
      "text/plain": [
       "   rating       date         variation  \\\n",
       "0       5  31-Jul-18  Charcoal Fabric    \n",
       "1       5  31-Jul-18  Charcoal Fabric    \n",
       "2       4  31-Jul-18    Walnut Finish    \n",
       "3       5  31-Jul-18  Charcoal Fabric    \n",
       "4       5  31-Jul-18  Charcoal Fabric    \n",
       "\n",
       "                                    verified_reviews  feedback  \n",
       "0                                      Love my Echo!         1  \n",
       "1                                          Loved it!         1  \n",
       "2  Sometimes while playing a game, you can answer...         1  \n",
       "3  I have had a lot of fun with this thing. My 4 ...         1  \n",
       "4                                              Music         1  "
      ],
      "text/html": [
       "<div>\n",
       "<style scoped>\n",
       "    .dataframe tbody tr th:only-of-type {\n",
       "        vertical-align: middle;\n",
       "    }\n",
       "\n",
       "    .dataframe tbody tr th {\n",
       "        vertical-align: top;\n",
       "    }\n",
       "\n",
       "    .dataframe thead th {\n",
       "        text-align: right;\n",
       "    }\n",
       "</style>\n",
       "<table border=\"1\" class=\"dataframe\">\n",
       "  <thead>\n",
       "    <tr style=\"text-align: right;\">\n",
       "      <th></th>\n",
       "      <th>rating</th>\n",
       "      <th>date</th>\n",
       "      <th>variation</th>\n",
       "      <th>verified_reviews</th>\n",
       "      <th>feedback</th>\n",
       "    </tr>\n",
       "  </thead>\n",
       "  <tbody>\n",
       "    <tr>\n",
       "      <th>0</th>\n",
       "      <td>5</td>\n",
       "      <td>31-Jul-18</td>\n",
       "      <td>Charcoal Fabric</td>\n",
       "      <td>Love my Echo!</td>\n",
       "      <td>1</td>\n",
       "    </tr>\n",
       "    <tr>\n",
       "      <th>1</th>\n",
       "      <td>5</td>\n",
       "      <td>31-Jul-18</td>\n",
       "      <td>Charcoal Fabric</td>\n",
       "      <td>Loved it!</td>\n",
       "      <td>1</td>\n",
       "    </tr>\n",
       "    <tr>\n",
       "      <th>2</th>\n",
       "      <td>4</td>\n",
       "      <td>31-Jul-18</td>\n",
       "      <td>Walnut Finish</td>\n",
       "      <td>Sometimes while playing a game, you can answer...</td>\n",
       "      <td>1</td>\n",
       "    </tr>\n",
       "    <tr>\n",
       "      <th>3</th>\n",
       "      <td>5</td>\n",
       "      <td>31-Jul-18</td>\n",
       "      <td>Charcoal Fabric</td>\n",
       "      <td>I have had a lot of fun with this thing. My 4 ...</td>\n",
       "      <td>1</td>\n",
       "    </tr>\n",
       "    <tr>\n",
       "      <th>4</th>\n",
       "      <td>5</td>\n",
       "      <td>31-Jul-18</td>\n",
       "      <td>Charcoal Fabric</td>\n",
       "      <td>Music</td>\n",
       "      <td>1</td>\n",
       "    </tr>\n",
       "  </tbody>\n",
       "</table>\n",
       "</div>"
      ]
     },
     "execution_count": 4,
     "metadata": {},
     "output_type": "execute_result"
    }
   ],
   "execution_count": 4
  },
  {
   "metadata": {},
   "cell_type": "markdown",
   "source": "Using the matplotlib library to plot the distribution of the ratings in the dataset for exploratory analysis.",
   "id": "a1cda79ed357e82b"
  },
  {
   "metadata": {
    "ExecuteTime": {
     "end_time": "2024-07-04T22:02:27.035148Z",
     "start_time": "2024-07-04T22:02:26.871965Z"
    }
   },
   "cell_type": "code",
   "source": "plot = reviews['rating'].value_counts().plot(kind='bar', title='Distribution of Ratings in the Dataset')",
   "id": "c557dc31f6295f0c",
   "outputs": [
    {
     "data": {
      "text/plain": [
       "<Figure size 640x480 with 1 Axes>"
      ],
      "image/png": "[encoded data removed]"
     },
     "metadata": {},
     "output_type": "display_data"
    }
   ],
   "execution_count": 15
  },
  {
   "metadata": {},
   "cell_type": "markdown",
   "source": "Displaying distribution of target variable 'feedback' in the dataset. The feedback column contains the sentiment of the review. As you can notice the data is unbalanced. We will split the data into training and test split later on while keeping this in mind.",
   "id": "5a53a4de7aa5ebb1"
  },
  {
   "metadata": {
    "ExecuteTime": {
     "end_time": "2024-07-06T15:32:47.199178Z",
     "start_time": "2024-07-06T15:32:46.798737Z"
    }
   },
   "cell_type": "code",
   "source": "feedback_plot = reviews['feedback'].value_counts().plot(kind='bar', title='Distribution of Feedback in the Dataset')",
   "id": "f4c991b233bb1cd",
   "outputs": [
    {
     "data": {
      "text/plain": [
       "<Figure size 640x480 with 1 Axes>"
      ],
      "image/png": "[encoded data removed]"
     },
     "metadata": {},
     "output_type": "display_data"
    }
   ],
   "execution_count": 5
  },
  {
   "metadata": {},
   "cell_type": "markdown",
   "source": [
    "<h3> Step 4: Preprocessing the Text Data </h3>\n",
    "<p> The text data needs to be preprocessed before it can be used for classification tasks. The preprocessing steps include tokenization, removing stopwords, and lemmatization. </p>\n",
    "<p> The following steps are performed: </p>\n",
    "<ol>\n",
    "    <li> Data Cleaning: Removing NaN values and duplicates from the dataset. </li>\n",
    "    <li> Tokenization: The text data is tokenized into words. </li>\n",
    "    <li> Removing Stopwords: The stopwords are removed from the text data. </li>\n",
    "    <li> Lemmatization: The words are lemmatized to their root form. </li>"
   ],
   "id": "737c6fbf9d355505"
  },
  {
   "metadata": {
    "ExecuteTime": {
     "end_time": "2024-07-06T17:20:57.473299Z",
     "start_time": "2024-07-06T17:20:57.457604Z"
    }
   },
   "cell_type": "code",
   "source": [
    "# Remove NaN values and duplicates from the dataset\n",
    "reviews.dropna(inplace=True)\n",
    "reviews.drop_duplicates(inplace=True)"
   ],
   "id": "71b1691e8fefc590",
   "outputs": [],
   "execution_count": 27
  },
  {
   "metadata": {},
   "cell_type": "markdown",
   "source": [
    "<h3> Step 5: Splitting the Dataset into Training and Test Sets </h3>\n",
    "<p> The dataset is split into training and test sets for training and evaluating the machine learning model. </p>"
   ],
   "id": "dc0130d72ed9e73f"
  },
  {
   "metadata": {
    "ExecuteTime": {
     "end_time": "2024-07-06T17:20:59.384979Z",
     "start_time": "2024-07-06T17:20:59.370470Z"
    }
   },
   "cell_type": "code",
   "source": [
    "from sklearn.model_selection import train_test_split\n",
    "\n",
    "# split the dataset into training and test sets with equal distribution of the target variable\n",
    "X_train, X_test, y_train, y_test = train_test_split(reviews['verified_reviews'], reviews['feedback'], test_size=0.2, random_state=0, stratify=reviews['feedback'])\n",
    "\n",
    "# display the shape of the training and test sets\n",
    "X_train.shape, X_test.shape, y_train.shape, y_test.shape"
   ],
   "id": "1d33dc84c84dad59",
   "outputs": [
    {
     "data": {
      "text/plain": [
       "((1928,), (482,), (1928,), (482,))"
      ]
     },
     "execution_count": 28,
     "metadata": {},
     "output_type": "execute_result"
    }
   ],
   "execution_count": 28
  },
  {
   "metadata": {},
   "cell_type": "markdown",
   "source": [
    "<h3> Step 7: Building the pipeline and training the Machine Learning Model </h3>\n",
    "<p> The machine learning model is built using the Logistical Regression algorithm. The model is trained on the training data and evaluated on the test data. The pipeline allows us to vectorize the text data and train the model in a single step. </p>"
   ],
   "id": "3a7d8ace02edae55"
  },
  {
   "metadata": {
    "ExecuteTime": {
     "end_time": "2024-07-06T17:21:12.224539Z",
     "start_time": "2024-07-06T17:21:01.649009Z"
    }
   },
   "cell_type": "code",
   "source": [
    "from nltk.corpus import stopwords\n",
    "from nltk import WordNetLemmatizer\n",
    "from sklearn.pipeline import Pipeline\n",
    "from sklearn.linear_model import LogisticRegression\n",
    "from sklearn.feature_extraction.text import TfidfVectorizer\n",
    "import string\n",
    "from nltk.tokenize import word_tokenize\n",
    "# Initialize WordNet lemmatizer\n",
    "lemmatizer = WordNetLemmatizer()\n",
    "\n",
    "# Tokenization, lemmatization, and removing stopwords/punctuations function\n",
    "def nltk_tokenizer(sentence):\n",
    "    tokens = word_tokenize(sentence)  # Tokenize the sentence\n",
    "    tokens = [lemmatizer.lemmatize(token.lower()) for token in tokens if token not in string.punctuation \n",
    "              and token not in stopwords.words('english')]  # Lemmatize tokens and remove stopwords/punctuations\n",
    "    return tokens\n",
    "\n",
    "def clean_text(text):\n",
    "    if pd.isnull(text):\n",
    "        return \"\"\n",
    "    return str(text).strip().lower()\n",
    "\n",
    "X_train = X_train.apply(clean_text)\n",
    "X_test = X_test.apply(clean_text)\n",
    "\n",
    "pipeline = Pipeline([\n",
    "    ('vectorizer', TfidfVectorizer(tokenizer=nltk_tokenizer)),\n",
    "    ('classifier', LogisticRegression(class_weight='balanced'))\n",
    "])\n",
    "\n",
    "# train the model\n",
    "pipeline.fit(X_train, y_train)\n",
    "\n",
    "# make predictions on the test data\n",
    "y_pred = pipeline.predict(X_test)"
   ],
   "id": "df2e1747af00959a",
   "outputs": [
    {
     "name": "stderr",
     "output_type": "stream",
     "text": [
      "C:\\Users\\Archit\\miniforge3\\lib\\site-packages\\sklearn\\feature_extraction\\text.py:523: UserWarning: The parameter 'token_pattern' will not be used since 'tokenizer' is not None'\n",
      "  warnings.warn(\n"
     ]
    }
   ],
   "execution_count": 29
  },
  {
   "metadata": {},
   "cell_type": "markdown",
   "source": [
    "<h3> Step 8: Evaluating the Model </h3>\n",
    "<p> The model is evaluated using accuracy and classification report. The accuracy score is calculated to measure the performance of the model. The classification report provides the precision, recall, and F1-score for each class in the target variable. </p>\n"
   ],
   "id": "c8da6e421ddccef2"
  },
  {
   "metadata": {
    "ExecuteTime": {
     "end_time": "2024-07-06T17:21:55.617849Z",
     "start_time": "2024-07-06T17:21:55.587812Z"
    }
   },
   "cell_type": "code",
   "source": [
    "from sklearn.metrics import accuracy_score, classification_report\n",
    "\n",
    "# calculate the accuracy of the model\n",
    "accuracy = accuracy_score(y_test, y_pred)\n",
    "\n",
    "# display the accuracy of the model\n",
    "print(f'Accuracy: {accuracy}')\n",
    "\n",
    "# display the classification report\n",
    "print('Classification Report:')\n",
    "print(classification_report(y_test, y_pred))"
   ],
   "id": "6ca11801b978b1dc",
   "outputs": [
    {
     "name": "stdout",
     "output_type": "stream",
     "text": [
      "Accuracy: 0.9128630705394191\n",
      "Classification Report:\n",
      "              precision    recall  f1-score   support\n",
      "\n",
      "           0       1.00      0.05      0.09        44\n",
      "           1       0.91      1.00      0.95       438\n",
      "\n",
      "    accuracy                           0.91       482\n",
      "   macro avg       0.96      0.52      0.52       482\n",
      "weighted avg       0.92      0.91      0.88       482\n",
      "\n"
     ]
    }
   ],
   "execution_count": 30
  },
  {
   "metadata": {},
   "cell_type": "markdown",
   "source": [
    "<h3> Step 9 (optional): Saving the Model </h3>\n",
    "<p> The model can be saved using the joblib library for future use. The model can be loaded and used for making predictions on new data. </p>"
   ],
   "id": "8e504b59c6ab949"
  },
  {
   "metadata": {
    "ExecuteTime": {
     "end_time": "2024-07-06T17:21:59.115206Z",
     "start_time": "2024-07-06T17:21:59.068385Z"
    }
   },
   "cell_type": "code",
   "source": [
    "import joblib\n",
    "\n",
    "# save the model\n",
    "joblib.dump(pipeline, 'alexa_reviews_model.joblib')"
   ],
   "id": "47f4b0a86375e96f",
   "outputs": [
    {
     "data": {
      "text/plain": [
       "['alexa_reviews_model.joblib']"
      ]
     },
     "execution_count": 31,
     "metadata": {},
     "output_type": "execute_result"
    }
   ],
   "execution_count": 31
  }
 ],
 "metadata": {
  "kernelspec": {
   "display_name": "Python 3",
   "language": "python",
   "name": "python3"
  },
  "language_info": {
   "codemirror_mode": {
    "name": "ipython",
    "version": 2
   },
   "file_extension": ".py",
   "mimetype": "text/x-python",
   "name": "python",
   "nbconvert_exporter": "python",
   "pygments_lexer": "ipython2",
   "version": "2.7.6"
  }
 },
 "nbformat": 4,
 "nbformat_minor": 5
}
